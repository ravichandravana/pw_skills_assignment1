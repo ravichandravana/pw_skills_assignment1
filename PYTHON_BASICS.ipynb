{
  "nbformat": 4,
  "nbformat_minor": 0,
  "metadata": {
    "colab": {
      "provenance": []
    },
    "kernelspec": {
      "name": "python3",
      "display_name": "Python 3"
    },
    "language_info": {
      "name": "python"
    }
  },
  "cells": [
    {
      "cell_type": "code",
      "execution_count": null,
      "metadata": {
        "id": "nPTzIMH0khXx"
      },
      "outputs": [],
      "source": []
    },
    {
      "cell_type": "markdown",
      "source": [
        "PYTHON BASIC\n"
      ],
      "metadata": {
        "id": "et7gfLoDko55"
      }
    },
    {
      "cell_type": "markdown",
      "source": [
        " 1. What is Python, and why is it popular ?\n",
        "   ->Python is a high-level, interpreted programming language known for its\n",
        "     simplicity  and easy to understand and implement.It is popular for simple implementation,easy to maintain and growing fields like datascience,ml and gen ai are mostly rely on it\n",
        "    \n",
        "\n",
        " 2. What is an interpreter in Python ?\n",
        "  -> An interpreter is a program that reads and executes Python code line by\n",
        "     line, unlike compiler that compile entire code into machine language at once\n",
        "\n",
        "\n",
        " 3. What are pre-defined keywords in Python ?\n",
        "   -> Pre-defined  Keywords are  reserved words that Python already understands.\n",
        "     They have a specific meaning and cannot be used as variable names, function names, or identifiers.\n",
        "      ex:-if, else, while, for, def, class, return, import, etc.\n",
        "\n",
        "\n",
        "  4.Can keywords be used as variable names ?\n",
        "    ->  No,They have a specific meaning in python and cannot be used as  \n",
        "        variable names, function names, or identifiers\n",
        "\n",
        "\n",
        "  5. What is mutability in Python ?\n",
        "     ->Mutability means to whether an object’s value can be changed after it’s\n",
        "       created.In python list,dict,sets etc are mutable objects\n",
        "  \n",
        "\n",
        "  6. Why are lists mutable, but tuples are immutable?\n",
        "     ->Lists are designed for data that may change but tuple is designed to store fixed data which means if you store some data in tuple it would static not able to modify it that is not in the cas of lists it could be modified\n",
        "\n",
        "\n",
        "  7 What is the difference between “==” and “is” operators in Python ?\n",
        "    -> Here \"==\" operator checks values of two object .If values are same it\n",
        "       returns ture\n",
        "       ex:-a = [1, 2, 3]\n",
        "           b = [1, 2, 3] than if(a==b) returns true\n",
        "       but according to is it checks both objects address if address is same it returns true if address is not same it return false even the values are same\n",
        "       \n",
        "       So when you write a = 2 and b = 2, both a and b point to the same memory location. In this case both operators return true\n",
        "\n",
        "\n",
        "   8 What are logical operators in Python ?\n",
        "     -> There are three logical operators in python\n",
        "        and \tLogical AND \tReturns True if both conditions are True\n",
        "        or    Logical OR    Returns True if at least one is True\n",
        "        not   Logical NOT   Inverts the boolean value (True → False)\n",
        "\n",
        "   9 What is type casting in Python ?\n",
        "     -> Type casting means converting one data type to another.Like changing a string into a number, or a float into an integer.\n",
        "\n",
        "    \n",
        "   10 What is the difference between implicit and explicit type casting\n",
        "    -> implicit-:Python automatically converts one data type to another during\n",
        "       operations.\n",
        "\n",
        "       ex:-               x = 2         \n",
        "                          y = x + 3.0\n",
        "           python converts x to float it is implicit type casting\n",
        "       explicit:-You use functions like int(), float(), str() to convert types manually\n",
        "       ex:- a = \"10\"      \n",
        "            b = int(a)\n",
        "   11.What is the purpose of conditional statements in Python ?\n",
        "      ->Conditional statements allow your program to make decisions and perform\n",
        "        different actions based on certain condition\n",
        "\n",
        "   12.How does the elif statement work?\n",
        "      -> elif stands for “else if”\n",
        "\n",
        "           It's used when you want to check more than one condition after an initial if\n",
        "\n",
        "           It runs only if the previous if or elif conditions are False\n",
        "    \n",
        "         if condition1:\n",
        "                 # runs if condition1 is True\n",
        "         elif condition2:\n",
        "                 # runs if condition1 is False and condition2 is True\n",
        "         elif condition3:\n",
        "                 # runs if condition1 and condition2 are False, but condition3 is True\n",
        "         else:\n",
        "                 # runs if all above conditions are False\n",
        "\n",
        "            \n",
        "   13 .What is the difference between for and while loops ?\n",
        "      -> for Loop:-\n",
        "           Used when you know in advance how many times you want to loop.\n",
        "\n",
        "           Often used to iterate over sequences like lists, strings, tuples, or ranges.\n",
        "\n",
        "        while Loop:-\n",
        "              Used when you don’t know how many times you need to loop.\n",
        "\n",
        "              It runs as long as a condition is True.\n",
        "  14 .Describe a scenario where a while loop is more suitable than a for loop.\n",
        "\n",
        "       number = 100\n",
        "\n",
        "      while number >= 1:\n",
        "            print(number)\n",
        "            number = number / 2\n",
        "\n",
        "\n",
        "            in this scenario we need to divivde number until it got less than 1 we dont had speicfic range to iterate loop. Here  we depend condition,  so where loop depends condition rather than range or lenght of data structure there while loop is useful\n",
        "             \n",
        "    \n",
        "    "
      ],
      "metadata": {
        "id": "M3mKpPARlq7x"
      }
    },
    {
      "cell_type": "markdown",
      "source": [
        "\n",
        "Practical Questions\n",
        "\n",
        "1.Write a Python program to print \"Hello, World!\""
      ],
      "metadata": {
        "id": "VCnHRF1HkG9_"
      }
    },
    {
      "cell_type": "code",
      "source": [
        "print(\"Hello, World!\")"
      ],
      "metadata": {
        "id": "goNejvLbvJtU",
        "colab": {
          "base_uri": "https://localhost:8080/"
        },
        "outputId": "2c773822-32fd-4b05-b173-c921f1e25006"
      },
      "execution_count": 8,
      "outputs": [
        {
          "output_type": "stream",
          "name": "stdout",
          "text": [
            "Hello, World!\n"
          ]
        }
      ]
    },
    {
      "cell_type": "markdown",
      "source": [
        "2 Write a Python program that displays your name and age\n"
      ],
      "metadata": {
        "id": "p-NtkhYplCqX"
      }
    },
    {
      "cell_type": "code",
      "source": [
        "print(\"Name :-\"+\"Ravi Chandra\")\n",
        "print(\"age:-\"+\"23\")\n"
      ],
      "metadata": {
        "id": "NZARxHcDk1MR",
        "colab": {
          "base_uri": "https://localhost:8080/"
        },
        "outputId": "89bb5776-6fb4-459a-e856-e11997a2bbb5"
      },
      "execution_count": 9,
      "outputs": [
        {
          "output_type": "stream",
          "name": "stdout",
          "text": [
            "Name :-Ravi Chandra\n",
            "age:-23\n"
          ]
        }
      ]
    },
    {
      "cell_type": "markdown",
      "source": [
        "3 Write code to print all the pre-defined keywords in Python using the keyword library\n"
      ],
      "metadata": {
        "id": "WXmVSP7ClcR1"
      }
    },
    {
      "cell_type": "code",
      "source": [
        "import keyword\n",
        "\n",
        "keywordList=keyword.kwlist\n",
        "print(keywordList)"
      ],
      "metadata": {
        "colab": {
          "base_uri": "https://localhost:8080/"
        },
        "id": "XNvKPQ5rlofI",
        "outputId": "0565df04-e426-46df-ec47-49358c5f502f"
      },
      "execution_count": 10,
      "outputs": [
        {
          "output_type": "stream",
          "name": "stdout",
          "text": [
            "['False', 'None', 'True', 'and', 'as', 'assert', 'async', 'await', 'break', 'class', 'continue', 'def', 'del', 'elif', 'else', 'except', 'finally', 'for', 'from', 'global', 'if', 'import', 'in', 'is', 'lambda', 'nonlocal', 'not', 'or', 'pass', 'raise', 'return', 'try', 'while', 'with', 'yield']\n"
          ]
        }
      ]
    },
    {
      "cell_type": "markdown",
      "source": [
        "4 Write a program that checks if a given word is a Python keyword.\n"
      ],
      "metadata": {
        "id": "i0GHSPZ5mHui"
      }
    },
    {
      "cell_type": "code",
      "source": [
        "import keyword\n",
        "\n",
        "word=input(\"enter your word  \")\n",
        "\n",
        "print(keyword.iskeyword(word))"
      ],
      "metadata": {
        "colab": {
          "base_uri": "https://localhost:8080/"
        },
        "id": "VAoOoV5Xlobu",
        "outputId": "c5bd7762-c636-455d-8582-053cf57f9cdb"
      },
      "execution_count": 13,
      "outputs": [
        {
          "output_type": "stream",
          "name": "stdout",
          "text": [
            "enter your word  iam\n",
            "False\n"
          ]
        }
      ]
    },
    {
      "cell_type": "markdown",
      "source": [
        "5. Create a list and tuple in Python, and demonstrate how attempting to change an element works differently\n",
        "for each.\n",
        "\n",
        "->1.List is mutable that's why when i update 10 at index 2 it will be updated\n",
        "   2.Tuple is immutable thats why it throws error"
      ],
      "metadata": {
        "id": "7n1Nc8a8BmwI"
      }
    },
    {
      "cell_type": "markdown",
      "source": [],
      "metadata": {
        "id": "0MLDs_a1vJSf"
      }
    },
    {
      "cell_type": "code",
      "source": [
        "my_list = [1, 2, 3, 4, 5]\n",
        "\n",
        "my_list[2] = 10\n",
        "print(\"Updated List:\", my_list)"
      ],
      "metadata": {
        "colab": {
          "base_uri": "https://localhost:8080/"
        },
        "id": "ToEc0rOPB0Zg",
        "outputId": "183a7471-b978-4029-b106-6219e93a4ed5"
      },
      "execution_count": 14,
      "outputs": [
        {
          "output_type": "stream",
          "name": "stdout",
          "text": [
            "Updated List: [1, 2, 10, 4, 5]\n"
          ]
        }
      ]
    },
    {
      "cell_type": "code",
      "source": [
        "my_tuple = (1, 2, 3, 4, 5)\n",
        "\n",
        "# Trying to change an element (this will raise an error)\n",
        "try:\n",
        "    my_tuple[2] = 10\n",
        "except TypeError as e:\n",
        "    print(\"Error:\", e)"
      ],
      "metadata": {
        "colab": {
          "base_uri": "https://localhost:8080/"
        },
        "id": "49OaDwgwCQ2x",
        "outputId": "98238551-b283-4243-948e-2f9d2bedde51"
      },
      "execution_count": 15,
      "outputs": [
        {
          "output_type": "stream",
          "name": "stdout",
          "text": [
            "Error: 'tuple' object does not support item assignment\n"
          ]
        }
      ]
    },
    {
      "cell_type": "markdown",
      "source": [
        "6. Write a function to demonstrate the behavior of mutable and immutable arguments.\n",
        "\n",
        "->\n",
        "  Immutable types (like int, str, tuple) → changes inside a function do not affect the original value.\n",
        "\n",
        "Mutable types (like list, dict) → changes inside a function do affect the original value."
      ],
      "metadata": {
        "id": "ecGRRZyJDhp6"
      }
    },
    {
      "cell_type": "code",
      "source": [
        "def modify_arguments(num, my_list):\n",
        "    print(\"\\nInside function (before changes):\")\n",
        "    print(\"num =\", num)\n",
        "    print(\"my_list =\", my_list)\n",
        "\n",
        "    num += 10          # Trying to change the integer (immutable)\n",
        "    my_list.append(99) # Modifying the list (mutable)\n",
        "\n",
        "    print(\"\\nInside function (after changes):\")\n",
        "    print(\"num =\", num)\n",
        "    print(\"my_list =\", my_list)\n",
        "\n",
        "# Initial values\n",
        "number = 5\n",
        "numbers_list = [1, 2, 3]\n",
        "\n",
        "# Function call\n",
        "modify_arguments(number, numbers_list)\n",
        "\n",
        "print(\"\\nOutside function (after function call):\")\n",
        "print(\"number =\", number)\n",
        "print(\"numbers_list =\", numbers_list)\n"
      ],
      "metadata": {
        "colab": {
          "base_uri": "https://localhost:8080/"
        },
        "id": "uMfrrEeMEF13",
        "outputId": "bf7e1934-e5b1-4094-f5b1-00df8159d23b"
      },
      "execution_count": 16,
      "outputs": [
        {
          "output_type": "stream",
          "name": "stdout",
          "text": [
            "\n",
            "Inside function (before changes):\n",
            "num = 5\n",
            "my_list = [1, 2, 3]\n",
            "\n",
            "Inside function (after changes):\n",
            "num = 15\n",
            "my_list = [1, 2, 3, 99]\n",
            "\n",
            "Outside function (after function call):\n",
            "number = 5\n",
            "numbers_list = [1, 2, 3, 99]\n"
          ]
        }
      ]
    },
    {
      "cell_type": "markdown",
      "source": [
        "7. Write a program that performs basic arithmetic operations on two user-input numbers."
      ],
      "metadata": {
        "id": "7fMyFIc4FwVR"
      }
    },
    {
      "cell_type": "code",
      "source": [
        "num1 = float(input(\"Enter the first number: \"))\n",
        "num2 = float(input(\"Enter the second number: \"))\n",
        "\n",
        "# Performing arithmetic operations\n",
        "print(\"Arithmetic Operations\")\n",
        "print(\"Addition:       \", num1 + num2)\n",
        "print(\"Subtraction:    \", num1 - num2)\n",
        "print(\"Multiplication: \", num1 * num2)\n",
        "\n",
        "# Handling division by zero\n",
        "if num2 != 0:\n",
        "    print(\"Division:       \", num1 / num2)\n",
        "else:\n",
        "    print(\"Division:       Cannot divide by zero!\")\n"
      ],
      "metadata": {
        "colab": {
          "base_uri": "https://localhost:8080/"
        },
        "id": "TuG0_ZnyGeFz",
        "outputId": "1efdc21e-eafc-4def-dfc5-4634bd04dcae"
      },
      "execution_count": 18,
      "outputs": [
        {
          "output_type": "stream",
          "name": "stdout",
          "text": [
            "Enter the first number: 4\n",
            "Enter the second number: 4\n",
            "Arithmetic Operations\n",
            "Addition:        8.0\n",
            "Subtraction:     0.0\n",
            "Multiplication:  16.0\n",
            "Division:        1.0\n"
          ]
        }
      ]
    },
    {
      "cell_type": "markdown",
      "source": [
        "8. Write a program to demonstrate the use of logical operators.\n"
      ],
      "metadata": {
        "id": "I8YicpgsHbj_"
      }
    },
    {
      "cell_type": "code",
      "source": [
        "a = int(input(\"Enter first number: \"))\n",
        "b = int(input(\"Enter second number: \"))\n",
        "\n",
        "# Logical AND\n",
        "print(\"\\nLogical AND:\")\n",
        "if a > 0 and b > 0:\n",
        "    print(\"Both numbers are positive.\")\n",
        "else:\n",
        "    print(\"At least one number is not positive.\")\n",
        "\n",
        "# Logical OR\n",
        "print(\"\\nLogical OR:\")\n",
        "if a > 0 or b > 0:\n",
        "    print(\"At least one number is positive.\")\n",
        "else:\n",
        "    print(\"Neither number is positive.\")\n",
        "\n",
        "# Logical NOT\n",
        "print(\"\\nLogical NOT:\")\n",
        "print(\"NOT (a > 0):\", not (a > 0))\n",
        "print(\"NOT (b > 0):\", not (b > 0))\n"
      ],
      "metadata": {
        "colab": {
          "base_uri": "https://localhost:8080/"
        },
        "id": "NXZUC2wGHdYn",
        "outputId": "2cf78182-0bd0-4302-d5ec-3c1d8c6cac5c"
      },
      "execution_count": 19,
      "outputs": [
        {
          "output_type": "stream",
          "name": "stdout",
          "text": [
            "Enter first number: 4\n",
            "Enter second number: 4\n",
            "\n",
            "Logical AND:\n",
            "Both numbers are positive.\n",
            "\n",
            "Logical OR:\n",
            "At least one number is positive.\n",
            "\n",
            "Logical NOT:\n",
            "NOT (a > 0): False\n",
            "NOT (b > 0): False\n"
          ]
        }
      ]
    },
    {
      "cell_type": "markdown",
      "source": [
        "9. Write a Python program to convert user input from string to integer, float, and boolean types."
      ],
      "metadata": {
        "id": "bCR-tC0VH54A"
      }
    },
    {
      "cell_type": "code",
      "source": [
        "user_input = input(\"Enter a value: \")\n",
        "\n",
        "# Convert to integer\n",
        "try:\n",
        "    int_value = int(user_input)\n",
        "    print(\"Integer:\", int_value)\n",
        "except ValueError:\n",
        "    print(\"Cannot convert to Integer.\")\n",
        "\n",
        "# Convert to float\n",
        "try:\n",
        "    float_value = float(user_input)\n",
        "    print(\"Float:  \", float_value)\n",
        "except ValueError:\n",
        "    print(\"Cannot convert to Float.\")\n",
        "\n",
        "# Convert to boolean\n",
        "bool_value = bool(user_input.strip().lower())\n",
        "print(\"Boolean:\", bool_value)\n"
      ],
      "metadata": {
        "colab": {
          "base_uri": "https://localhost:8080/"
        },
        "id": "KLlitOqZH6a3",
        "outputId": "a4c63d19-f4d9-47fc-9368-17f2abd1bde4"
      },
      "execution_count": 25,
      "outputs": [
        {
          "output_type": "stream",
          "name": "stdout",
          "text": [
            "Enter a value: e\n",
            "Cannot convert to Integer.\n",
            "Cannot convert to Float.\n",
            "Boolean: True\n"
          ]
        }
      ]
    },
    {
      "cell_type": "markdown",
      "source": [
        "10. Write code to demonstrate type casting with list elements."
      ],
      "metadata": {
        "id": "n-txwd8IJBm8"
      }
    },
    {
      "cell_type": "code",
      "source": [
        "str_list = [\"10\", \"20\", \"30\", \"0\", \"\"]\n",
        "\n",
        "print(\"Original List:\", str_list)\n",
        "\n",
        "# Convert to integers\n",
        "int_list = []\n",
        "for item in str_list:\n",
        "    if item.strip() != \"\":\n",
        "        try:\n",
        "            int_list.append(int(item))\n",
        "        except ValueError:\n",
        "            print(f\"Cannot convert '{item}' to integer\")\n",
        "print(\"As Integers:\", int_list)\n",
        "\n",
        "# Convert to floats\n",
        "float_list = []\n",
        "for item in str_list:\n",
        "    if item.strip() != \"\":\n",
        "        try:\n",
        "            float_list.append(float(item))\n",
        "        except ValueError:\n",
        "            print(f\"Cannot convert '{item}' to float\")\n",
        "print(\"As Floats:\", float_list)\n",
        "\n",
        "# Convert to booleans\n",
        "bool_list = []\n",
        "for item in str_list:\n",
        "    # True if item is not empty and not \"0\"\n",
        "    is_true = bool(item.strip()) and item != \"0\"\n",
        "    bool_list.append(is_true)\n",
        "print(\"As Booleans:\", bool_list)\n"
      ],
      "metadata": {
        "colab": {
          "base_uri": "https://localhost:8080/"
        },
        "id": "J4scG8RJJJG-",
        "outputId": "46978088-ddf5-4e45-f195-8fd076aa63df"
      },
      "execution_count": 23,
      "outputs": [
        {
          "output_type": "stream",
          "name": "stdout",
          "text": [
            "Original List: ['10', '20', '30', '0', '']\n",
            "As Integers: [10, 20, 30, 0]\n",
            "As Floats: [10.0, 20.0, 30.0, 0.0]\n",
            "As Booleans: [True, True, True, False, False]\n"
          ]
        }
      ]
    },
    {
      "cell_type": "markdown",
      "source": [
        "11. Write a program that checks if a number is positive, negative, or zero."
      ],
      "metadata": {
        "id": "4cPSur-7KDmb"
      }
    },
    {
      "cell_type": "code",
      "source": [
        "num = float(input(\"Enter a number: \"))\n",
        "\n",
        "# Check if number is positive, negative, or zero\n",
        "if num > 0:\n",
        "    print(\"The number is positive.\")\n",
        "elif num < 0:\n",
        "    print(\"The number is negative.\")\n",
        "else:\n",
        "    print(\"The number is zero.\")\n"
      ],
      "metadata": {
        "colab": {
          "base_uri": "https://localhost:8080/"
        },
        "id": "pD6akQqkKEqX",
        "outputId": "f65ee663-2c72-49a2-9c10-249b0bc08c12"
      },
      "execution_count": 22,
      "outputs": [
        {
          "output_type": "stream",
          "name": "stdout",
          "text": [
            "Enter a number: 5\n",
            "The number is positive.\n"
          ]
        }
      ]
    },
    {
      "cell_type": "markdown",
      "source": [
        "12. Write a for loop to print numbers from 1 to 10."
      ],
      "metadata": {
        "id": "9IZGVCdDLK1n"
      }
    },
    {
      "cell_type": "code",
      "source": [
        "for i in range(1, 11):\n",
        "    print(i)\n"
      ],
      "metadata": {
        "colab": {
          "base_uri": "https://localhost:8080/"
        },
        "id": "mfmGRDuRLMc9",
        "outputId": "56c7408e-0379-438c-d8f1-81c450e41e2e"
      },
      "execution_count": 26,
      "outputs": [
        {
          "output_type": "stream",
          "name": "stdout",
          "text": [
            "1\n",
            "2\n",
            "3\n",
            "4\n",
            "5\n",
            "6\n",
            "7\n",
            "8\n",
            "9\n",
            "10\n"
          ]
        }
      ]
    },
    {
      "cell_type": "markdown",
      "source": [
        "13. Write a Python program to find the sum of all even numbers between 1 and 50."
      ],
      "metadata": {
        "id": "nMg9ZjTILTsT"
      }
    },
    {
      "cell_type": "code",
      "source": [
        "even_sum = 0\n",
        "\n",
        "for i in range(1, 51):\n",
        "    if i % 2 == 0:\n",
        "        even_sum += i\n",
        "\n",
        "print(\"Sum of even numbers from 1 to 50 is:\", even_sum)\n"
      ],
      "metadata": {
        "colab": {
          "base_uri": "https://localhost:8080/"
        },
        "id": "wrtsY5wbLVkh",
        "outputId": "3f15a732-eacb-4196-bc88-dabf70dd58a8"
      },
      "execution_count": 27,
      "outputs": [
        {
          "output_type": "stream",
          "name": "stdout",
          "text": [
            "Sum of even numbers from 1 to 50 is: 650\n"
          ]
        }
      ]
    },
    {
      "cell_type": "markdown",
      "source": [
        "14. Write a program to reverse a string using a while loop.\n"
      ],
      "metadata": {
        "id": "_60cqLsfLhuT"
      }
    },
    {
      "cell_type": "code",
      "source": [
        "text = input(\"Enter a string: \")\n",
        "\n",
        "# Initialize variables\n",
        "reversed_text = \"\"\n",
        "index = len(text) - 1\n",
        "\n",
        "# Reverse using while loop\n",
        "while index >= 0:\n",
        "    reversed_text += text[index]\n",
        "    index -= 1\n",
        "\n",
        "# Output the reversed string\n",
        "print(\"Reversed string:\", reversed_text)\n"
      ],
      "metadata": {
        "colab": {
          "base_uri": "https://localhost:8080/"
        },
        "id": "95NrRfpsLi9c",
        "outputId": "843437d0-e10a-41e8-b98b-57435796afbd"
      },
      "execution_count": 28,
      "outputs": [
        {
          "output_type": "stream",
          "name": "stdout",
          "text": [
            "Enter a string: ravi\n",
            "Reversed string: ivar\n"
          ]
        }
      ]
    },
    {
      "cell_type": "markdown",
      "source": [
        "15. Write a Python program to calculate the factorial of a number provided by the user using a while loop."
      ],
      "metadata": {
        "id": "TLSgQlkSMMJV"
      }
    },
    {
      "cell_type": "code",
      "source": [
        "num = int(input(\"Enter a number: \"))\n",
        "\n",
        "factorial = 1\n",
        "\n",
        "if num < 0:\n",
        "    print(\"Factorial is not defined for negative numbers.\")\n",
        "else:\n",
        "    while num > 1:\n",
        "        factorial *= num\n",
        "        num -= 1\n",
        "\n",
        "    print(\"Factorial is:\", factorial)\n"
      ],
      "metadata": {
        "colab": {
          "base_uri": "https://localhost:8080/"
        },
        "id": "ZgVXzYRxMM5f",
        "outputId": "894ed889-8416-42b0-bc89-e9088f474908"
      },
      "execution_count": 31,
      "outputs": [
        {
          "output_type": "stream",
          "name": "stdout",
          "text": [
            "Enter a number: 5\n",
            "Factorial is: 120\n"
          ]
        }
      ]
    }
  ]
}