{
  "nbformat": 4,
  "nbformat_minor": 0,
  "metadata": {
    "colab": {
      "provenance": []
    },
    "kernelspec": {
      "name": "python3",
      "display_name": "Python 3"
    },
    "language_info": {
      "name": "python"
    }
  },
  "cells": [
    {
      "cell_type": "markdown",
      "source": [
        "1 What is a RESTful API?\n",
        "->A RESTful API is a type of web API that follows the principles of REST (Representational State Transfer) — an architectural style for designing networked applications.\n",
        "\n",
        "2. Explain the concept of API specification?\n",
        "\n",
        "An API specification is a detailed document or standard that describes how an API works — what endpoints are available, what data it accepts or returns, and how clients should interact with it.\n",
        "\n",
        "\n",
        "3. What is Flask, and why is it popular for building APIs?**  \n",
        "Flask is a lightweight web framework in Python used to build web apps and APIs.  \n",
        "It’s popular due to its simplicity, flexibility, and minimal setup requirements.\n",
        "\n",
        "4. What is routing in Flask?**  \n",
        "Routing maps URLs to Python functions using decorators like `@app.route()`.  \n",
        "It helps define how the app responds to different HTTP requests.\n",
        "\n",
        "5. How do you create a simple Flask application?**  \n",
        "You import Flask, create an app object, and define routes using decorators.  \n",
        "Run the app with `app.run()` to start a local server.\n",
        "\n",
        "6. What are HTTP methods used in RESTful APIs?**  \n",
        "Common HTTP methods include GET, POST, PUT, DELETE, and PATCH.  \n",
        "Each method represents a specific CRUD operation on a resource.\n",
        "\n",
        "7. What is the purpose of the @app.route() decorator in Flask?**  \n",
        "It defines the URL pattern for a view function.  \n",
        "It tells Flask which URL should trigger which function.\n",
        "\n",
        "8. What is the difference between GET and POST HTTP methods?**  \n",
        "GET is used to retrieve data, and parameters go in the URL.  \n",
        "POST is used to send data to the server, usually in the request body.\n",
        "\n",
        "9. How do you handle errors in Flask APIs?**  \n",
        "Use `@app.errorhandler()` decorators or `abort()` to catch errors.  \n",
        "You can return custom error messages with status codes.\n",
        "\n",
        "10. How do you connect Flask to a SQL database?**  \n",
        "Use libraries like `Flask-SQLAlchemy` to configure and connect to databases.  \n",
        "You define models and initialize the connection with `db.init_app(app)`.\n",
        "\n",
        "11. What is the role of Flask-SQLAlchemy?**  \n",
        "It integrates SQLAlchemy ORM with Flask for easy database interaction.  \n",
        "It simplifies model definition and database operations.\n",
        "\n",
        "12. What are Flask blueprints, and how are they useful?**  \n",
        "Blueprints organize app functionality into modular components.  \n",
        "They help manage large applications by grouping related routes.\n",
        "\n",
        "13. What is the purpose of Flask's request object?**  \n",
        "The `request` object provides access to incoming request data.  \n",
        "It includes form data, JSON, headers, and method info.\n",
        "\n",
        "14. How do you create a RESTful API endpoint using Flask?**  \n",
        "Define a route with `@app.route()` and use HTTP methods like GET or POST.  \n",
        "Return data using `jsonify()` for a JSON response.\n",
        "\n",
        "15. What is the purpose of Flask's jsonify() function?**  \n",
        "`jsonify()` converts Python dictionaries to JSON format.  \n",
        "It sets the correct Content-Type and handles encoding.\n",
        "\n",
        "16. Explain Flask’s url_for() function.**  \n",
        "`url_for()` generates a URL for a given function name dynamically.  \n",
        "It helps avoid hardcoding URLs and supports dynamic routing.\n",
        "\n",
        "17. How does Flask handle static files (CSS, JavaScript, etc.)?**  \n",
        "Flask serves static files from the `/static` folder by default.  \n",
        "Access them using `/static/filename` in your templates or browser.\n",
        "\n",
        "18. What is an API specification, and how does it help in building a Flask API?**  \n",
        "An API specification defines endpoints, request/response formats, and rules.  \n",
        "It helps document and standardize API usage for developers.\n",
        "\n",
        "19. What are HTTP status codes, and why are they important in a Flask API?**  \n",
        "They indicate the result of a request (e.g., 200 OK, 404 Not Found).  \n",
        "They help clients understand success, failure, or errors in responses.\n",
        "\n",
        "20. How do you handle POST requests in Flask?**  \n",
        "Use `@app.route(..., methods=[\"POST\"])` and read data from `request.form` or `request.json`.  \n",
        "Then process and return a response using `jsonify()`.\n",
        "\n",
        "21. How would you secure a Flask API?**  \n",
        "Use authentication (e.g., JWT, API keys), HTTPS, and input validation.  \n",
        "Also add CORS policies, rate limiting, and token verification.\n",
        "\n",
        "22. What is the significance of the Flask-RESTful extension?**  \n",
        "It simplifies the creation of REST APIs using classes and resource routing.  \n",
        "It provides built-in support for request parsing and response formatting.\n",
        "\n",
        "23. What is the role of Flask’s session object?**  \n",
        "The `session` object stores user-specific data between requests.  \n",
        "It uses signed cookies to persist data securely on the client side.\n"
      ],
      "metadata": {
        "id": "ApiY4YXA3z7l"
      }
    },
    {
      "cell_type": "markdown",
      "source": [
        "Practical"
      ],
      "metadata": {
        "id": "P7XjqiB1vX-B"
      }
    },
    {
      "cell_type": "markdown",
      "source": [
        "1.How do you create a basic Flask application?\n"
      ],
      "metadata": {
        "id": "U5JDzlzavauO"
      }
    },
    {
      "cell_type": "code",
      "source": [
        "from flask import Flask\n",
        "app = Flask(__name__)\n",
        "\n",
        "@app.route(\"/\")\n",
        "def home():\n",
        "    return \"Hello Flask!\"\n"
      ],
      "metadata": {
        "id": "6YCmjRfSvAww"
      },
      "execution_count": null,
      "outputs": []
    },
    {
      "cell_type": "markdown",
      "source": [
        "2.How do you serve static files like images or CSS in Flask"
      ],
      "metadata": {
        "id": "w9OGnve3vgg_"
      }
    },
    {
      "cell_type": "code",
      "source": [
        "# Place your files in a folder named 'static'\n",
        "# Access them in templates like:\n",
        "# <link rel=\"stylesheet\" href=\"{{ url_for('static', filename='style.css') }}\">\n"
      ],
      "metadata": {
        "id": "6V7nx4bavjO2"
      },
      "execution_count": null,
      "outputs": []
    },
    {
      "cell_type": "markdown",
      "source": [
        "3.How do you define different routes with different HTTP methods in Flask?\n"
      ],
      "metadata": {
        "id": "OuUs4wpVvrah"
      }
    },
    {
      "cell_type": "code",
      "source": [
        "from flask import request\n",
        "\n",
        "@app.route(\"/submit\", methods=[\"GET\", \"POST\"])\n",
        "def submit():\n",
        "    if request.method == \"POST\":\n",
        "        return \"Form submitted!\"\n",
        "    return \"Submit form.\"\n"
      ],
      "metadata": {
        "id": "mFb0wjAfvxxz"
      },
      "execution_count": null,
      "outputs": []
    },
    {
      "cell_type": "markdown",
      "source": [
        "4.How do you render HTML templates in Flask?"
      ],
      "metadata": {
        "id": "zkMWL4HVvy-3"
      }
    },
    {
      "cell_type": "code",
      "source": [
        "from flask import render_template\n",
        "\n",
        "@app.route(\"/greet\")\n",
        "def greet():\n",
        "    return render_template(\"greet.html\", name=\"John\")\n",
        "\n",
        "# File: templates/greet.html\n",
        "# <h1>Hello, {{ name }}!</h1>\n"
      ],
      "metadata": {
        "id": "DlXdBK26v5DJ"
      },
      "execution_count": null,
      "outputs": []
    },
    {
      "cell_type": "markdown",
      "source": [
        "5.How can you generate URLs for routes in Flask using url_for?"
      ],
      "metadata": {
        "id": "VsEr23nlv6qi"
      }
    },
    {
      "cell_type": "code",
      "source": [
        "from flask import url_for\n",
        "\n",
        "@app.route(\"/about\")\n",
        "def about():\n",
        "    return f\"Go to home: <a href='{url_for('home')}'>Home</a>\"\n"
      ],
      "metadata": {
        "id": "gVSlVOzqwAFq"
      },
      "execution_count": null,
      "outputs": []
    },
    {
      "cell_type": "markdown",
      "source": [
        "6.How do you handle forms in Flask?\n"
      ],
      "metadata": {
        "id": "a3EJk5KLwDot"
      }
    },
    {
      "cell_type": "code",
      "source": [
        "@app.route(\"/form\", methods=[\"POST\"])\n",
        "def form():\n",
        "    username = request.form['username']\n",
        "    return f\"Hello, {username}\"\n"
      ],
      "metadata": {
        "id": "HTBPxTlbwDLz"
      },
      "execution_count": null,
      "outputs": []
    },
    {
      "cell_type": "markdown",
      "source": [
        "7.How can you validate form data in Flask?"
      ],
      "metadata": {
        "id": "DuWOFEchwOer"
      }
    },
    {
      "cell_type": "code",
      "source": [
        "@app.route(\"/validate\", methods=[\"POST\"])\n",
        "def validate():\n",
        "    email = request.form.get(\"email\")\n",
        "    if not email:\n",
        "        return \"Email is required\", 400\n",
        "    return \"Valid email\"\n"
      ],
      "metadata": {
        "id": "BOCKgWYqwWog"
      },
      "execution_count": null,
      "outputs": []
    },
    {
      "cell_type": "markdown",
      "source": [
        "8. How do you manage sessions in Flask?"
      ],
      "metadata": {
        "id": "EHQmiF4owZem"
      }
    },
    {
      "cell_type": "code",
      "source": [
        "from flask import session\n",
        "app.secret_key = \"your_secret_key\"\n",
        "\n",
        "@app.route(\"/login\")\n",
        "def login():\n",
        "    session['user'] = \"admin\"\n",
        "    return \"Logged in\"\n",
        "\n",
        "@app.route(\"/profile\")\n",
        "def profile():\n",
        "    return f\"User: {session.get('user')}\"\n"
      ],
      "metadata": {
        "id": "8fuZOZSKwff9"
      },
      "execution_count": null,
      "outputs": []
    },
    {
      "cell_type": "markdown",
      "source": [
        "9.How do you redirect to a different route in Flask?"
      ],
      "metadata": {
        "id": "QhbUHaTOwj8l"
      }
    },
    {
      "cell_type": "code",
      "source": [
        "from flask import redirect\n",
        "\n",
        "@app.route(\"/go-home\")\n",
        "def go_home():\n",
        "    return redirect(url_for(\"home\"))\n"
      ],
      "metadata": {
        "id": "R20yYviXwoF8"
      },
      "execution_count": null,
      "outputs": []
    },
    {
      "cell_type": "markdown",
      "source": [
        "10. How do you handle errors in Flask (e.g., 404)?"
      ],
      "metadata": {
        "id": "g9vTjhkowqNu"
      }
    },
    {
      "cell_type": "code",
      "source": [
        "@app.errorhandler(404)\n",
        "def not_found(error):\n",
        "    return \"Page Not Found!\", 404\n"
      ],
      "metadata": {
        "id": "ABMV42m4wuK-"
      },
      "execution_count": null,
      "outputs": []
    },
    {
      "cell_type": "markdown",
      "source": [
        "11.How do you structure a Flask app using Blueprints?"
      ],
      "metadata": {
        "id": "rCBNKmvfwxet"
      }
    },
    {
      "cell_type": "code",
      "source": [
        "from flask import Blueprint\n",
        "\n",
        "admin_bp = Blueprint(\"admin\", __name__, url_prefix=\"/admin\")\n",
        "\n",
        "@admin_bp.route(\"/dashboard\")\n",
        "def dashboard():\n",
        "    return \"Admin Dashboard\"\n",
        "\n",
        "app.register_blueprint(admin_bp)\n"
      ],
      "metadata": {
        "id": "PE_-6pBSw2HE"
      },
      "execution_count": null,
      "outputs": []
    },
    {
      "cell_type": "markdown",
      "source": [
        "12.How do you define a custom Jinja filter in Flask?"
      ],
      "metadata": {
        "id": "0sDfHnOlw5iP"
      }
    },
    {
      "cell_type": "code",
      "source": [
        "@app.template_filter(\"reverse\")\n",
        "def reverse_filter(s):\n",
        "    return s[::-1]\n",
        "# Usage in template: {{ \"hello\" | reverse }}\n"
      ],
      "metadata": {
        "id": "DsBEUabrw9ET"
      },
      "execution_count": null,
      "outputs": []
    },
    {
      "cell_type": "markdown",
      "source": [
        "13.How can you redirect with query parameters in Flask?"
      ],
      "metadata": {
        "id": "t7p-xFlbw_jK"
      }
    },
    {
      "cell_type": "code",
      "source": [
        "@app.route(\"/search\")\n",
        "def search():\n",
        "    return redirect(url_for(\"results\", q=\"flask\"))\n",
        "\n",
        "@app.route(\"/results\")\n",
        "def results():\n",
        "    query = request.args.get(\"q\")\n",
        "    return f\"Results for: {query}\"\n"
      ],
      "metadata": {
        "id": "Sf_km2pixKcy"
      },
      "execution_count": null,
      "outputs": []
    },
    {
      "cell_type": "code",
      "source": [
        "14.How do you return JSON responses in Flask?"
      ],
      "metadata": {
        "id": "JWG0HWsWxNEf"
      },
      "execution_count": null,
      "outputs": []
    },
    {
      "cell_type": "code",
      "source": [
        "from flask import jsonify\n",
        "\n",
        "@app.route(\"/api/data\")\n",
        "def api_data():\n",
        "    return jsonify({\"status\": \"success\", \"data\": [1, 2, 3]})\n"
      ],
      "metadata": {
        "id": "ZM3UO1EFxQ8e"
      },
      "execution_count": null,
      "outputs": []
    },
    {
      "cell_type": "markdown",
      "source": [
        "15.How do you capture URL parameters in Flask?\n"
      ],
      "metadata": {
        "id": "skpl8dDmxYs_"
      }
    },
    {
      "cell_type": "code",
      "source": [
        "@app.route(\"/user/<username>\")\n",
        "def user_profile(username):\n",
        "    return f\"Welcome, {username}!\"\n"
      ],
      "metadata": {
        "id": "BiUaRBHrxe1J"
      },
      "execution_count": null,
      "outputs": []
    }
  ]
}